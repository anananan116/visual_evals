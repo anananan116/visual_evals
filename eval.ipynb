{
 "cells": [
  {
   "cell_type": "code",
   "execution_count": 1,
   "metadata": {},
   "outputs": [],
   "source": [
    "from evaltools.eval import COCOEvalCap\n",
    "import json"
   ]
  },
  {
   "cell_type": "code",
   "execution_count": 2,
   "metadata": {},
   "outputs": [],
   "source": [
    "with open('captions.json') as f:\n",
    "    captions = json.load(f)\n",
    "gts, res = {}, {}\n",
    "for k,v in captions.items():\n",
    "    gts[int(k)] = [{'caption': x} for x in v[1]]\n",
    "    res[int(k)] = [{'caption': v[0]}]"
   ]
  },
  {
   "cell_type": "code",
   "execution_count": 3,
   "metadata": {},
   "outputs": [],
   "source": [
    "eval_tool = COCOEvalCap()"
   ]
  },
  {
   "cell_type": "code",
   "execution_count": 4,
   "metadata": {},
   "outputs": [
    {
     "name": "stdout",
     "output_type": "stream",
     "text": [
      "tokenization...\n",
      "setting up scorers...\n",
      "computing Bleu score...\n",
      "{'testlen': 45386, 'reflen': 46153, 'guess': [45386, 40386, 35386, 30386], 'correct': [36096, 19898, 9751, 4575]}\n",
      "ratio: 0.9833813619916153\n",
      "Bleu_1: 0.782\n",
      "Bleu_2: 0.615\n",
      "Bleu_3: 0.468\n",
      "Bleu_4: 0.351\n",
      "computing METEOR score...\n",
      "METEOR: 0.286\n",
      "computing Rouge score...\n",
      "ROUGE_L: 0.562\n",
      "computing CIDEr score...\n",
      "CIDEr: 1.254\n",
      "computing SPICE score...\n"
     ]
    },
    {
     "ename": "CalledProcessError",
     "evalue": "Command '['java', '-jar', '-Xmx8G', 'spice-1.0.jar', 'c:\\\\Github_repos\\\\COCO_caption_eval\\\\evaltools\\\\spice\\\\tmp\\\\tmpvnhmekno', '-cache', 'c:\\\\Github_repos\\\\COCO_caption_eval\\\\evaltools\\\\spice\\\\cache', '-out', 'c:\\\\Github_repos\\\\COCO_caption_eval\\\\evaltools\\\\spice\\\\tmp\\\\tmpksh3kexj', '-subset', '-silent']' returned non-zero exit status 1.",
     "output_type": "error",
     "traceback": [
      "\u001b[1;31m---------------------------------------------------------------------------\u001b[0m",
      "\u001b[1;31mCalledProcessError\u001b[0m                        Traceback (most recent call last)",
      "Cell \u001b[1;32mIn[4], line 1\u001b[0m\n\u001b[1;32m----> 1\u001b[0m \u001b[43meval_tool\u001b[49m\u001b[38;5;241;43m.\u001b[39;49m\u001b[43mevaluate\u001b[49m\u001b[43m(\u001b[49m\u001b[43mgts\u001b[49m\u001b[43m,\u001b[49m\u001b[43m \u001b[49m\u001b[43mres\u001b[49m\u001b[43m)\u001b[49m\n",
      "File \u001b[1;32mc:\\Github_repos\\COCO_caption_eval\\evaltools\\eval.py:42\u001b[0m, in \u001b[0;36mCOCOEvalCap.evaluate\u001b[1;34m(self, gts, res)\u001b[0m\n\u001b[0;32m     40\u001b[0m \u001b[38;5;28;01mfor\u001b[39;00m scorer, method \u001b[38;5;129;01min\u001b[39;00m scorers:\n\u001b[0;32m     41\u001b[0m     \u001b[38;5;28mprint\u001b[39m(\u001b[38;5;124m'\u001b[39m\u001b[38;5;124mcomputing \u001b[39m\u001b[38;5;132;01m%s\u001b[39;00m\u001b[38;5;124m score...\u001b[39m\u001b[38;5;124m'\u001b[39m\u001b[38;5;241m%\u001b[39m(scorer\u001b[38;5;241m.\u001b[39mmethod()))\n\u001b[1;32m---> 42\u001b[0m     score, scores \u001b[38;5;241m=\u001b[39m \u001b[43mscorer\u001b[49m\u001b[38;5;241;43m.\u001b[39;49m\u001b[43mcompute_score\u001b[49m\u001b[43m(\u001b[49m\u001b[43mgts\u001b[49m\u001b[43m,\u001b[49m\u001b[43m \u001b[49m\u001b[43mres\u001b[49m\u001b[43m)\u001b[49m\n\u001b[0;32m     43\u001b[0m     \u001b[38;5;28;01mif\u001b[39;00m \u001b[38;5;28mtype\u001b[39m(method) \u001b[38;5;241m==\u001b[39m \u001b[38;5;28mlist\u001b[39m:\n\u001b[0;32m     44\u001b[0m         \u001b[38;5;28;01mfor\u001b[39;00m sc, scs, m \u001b[38;5;129;01min\u001b[39;00m \u001b[38;5;28mzip\u001b[39m(score, scores, method):\n",
      "File \u001b[1;32mc:\\Github_repos\\COCO_caption_eval\\evaltools\\spice\\spice.py:75\u001b[0m, in \u001b[0;36mSpice.compute_score\u001b[1;34m(self, gts, res)\u001b[0m\n\u001b[0;32m     68\u001b[0m   os\u001b[38;5;241m.\u001b[39mmakedirs(cache_dir)\n\u001b[0;32m     69\u001b[0m spice_cmd \u001b[38;5;241m=\u001b[39m [\u001b[38;5;124m'\u001b[39m\u001b[38;5;124mjava\u001b[39m\u001b[38;5;124m'\u001b[39m, \u001b[38;5;124m'\u001b[39m\u001b[38;5;124m-jar\u001b[39m\u001b[38;5;124m'\u001b[39m, \u001b[38;5;124m'\u001b[39m\u001b[38;5;124m-Xmx8G\u001b[39m\u001b[38;5;124m'\u001b[39m, SPICE_JAR, in_file\u001b[38;5;241m.\u001b[39mname,\n\u001b[0;32m     70\u001b[0m   \u001b[38;5;124m'\u001b[39m\u001b[38;5;124m-cache\u001b[39m\u001b[38;5;124m'\u001b[39m, cache_dir,\n\u001b[0;32m     71\u001b[0m   \u001b[38;5;124m'\u001b[39m\u001b[38;5;124m-out\u001b[39m\u001b[38;5;124m'\u001b[39m, out_file\u001b[38;5;241m.\u001b[39mname,\n\u001b[0;32m     72\u001b[0m   \u001b[38;5;124m'\u001b[39m\u001b[38;5;124m-subset\u001b[39m\u001b[38;5;124m'\u001b[39m,\n\u001b[0;32m     73\u001b[0m   \u001b[38;5;124m'\u001b[39m\u001b[38;5;124m-silent\u001b[39m\u001b[38;5;124m'\u001b[39m\n\u001b[0;32m     74\u001b[0m ]\n\u001b[1;32m---> 75\u001b[0m \u001b[43msubprocess\u001b[49m\u001b[38;5;241;43m.\u001b[39;49m\u001b[43mcheck_call\u001b[49m\u001b[43m(\u001b[49m\u001b[43mspice_cmd\u001b[49m\u001b[43m,\u001b[49m\u001b[43m \u001b[49m\n\u001b[0;32m     76\u001b[0m \u001b[43m    \u001b[49m\u001b[43mcwd\u001b[49m\u001b[38;5;241;43m=\u001b[39;49m\u001b[43mos\u001b[49m\u001b[38;5;241;43m.\u001b[39;49m\u001b[43mpath\u001b[49m\u001b[38;5;241;43m.\u001b[39;49m\u001b[43mdirname\u001b[49m\u001b[43m(\u001b[49m\u001b[43mos\u001b[49m\u001b[38;5;241;43m.\u001b[39;49m\u001b[43mpath\u001b[49m\u001b[38;5;241;43m.\u001b[39;49m\u001b[43mabspath\u001b[49m\u001b[43m(\u001b[49m\u001b[38;5;18;43m__file__\u001b[39;49m\u001b[43m)\u001b[49m\u001b[43m)\u001b[49m\u001b[43m)\u001b[49m\n\u001b[0;32m     78\u001b[0m \u001b[38;5;66;03m# Read and process results\u001b[39;00m\n\u001b[0;32m     79\u001b[0m \u001b[38;5;28;01mwith\u001b[39;00m \u001b[38;5;28mopen\u001b[39m(out_file\u001b[38;5;241m.\u001b[39mname) \u001b[38;5;28;01mas\u001b[39;00m data_file:    \n",
      "File \u001b[1;32mc:\\Users\\Zihan liu\\AppData\\Local\\Programs\\Python\\Python39\\lib\\subprocess.py:373\u001b[0m, in \u001b[0;36mcheck_call\u001b[1;34m(*popenargs, **kwargs)\u001b[0m\n\u001b[0;32m    371\u001b[0m     \u001b[38;5;28;01mif\u001b[39;00m cmd \u001b[38;5;129;01mis\u001b[39;00m \u001b[38;5;28;01mNone\u001b[39;00m:\n\u001b[0;32m    372\u001b[0m         cmd \u001b[38;5;241m=\u001b[39m popenargs[\u001b[38;5;241m0\u001b[39m]\n\u001b[1;32m--> 373\u001b[0m     \u001b[38;5;28;01mraise\u001b[39;00m CalledProcessError(retcode, cmd)\n\u001b[0;32m    374\u001b[0m \u001b[38;5;28;01mreturn\u001b[39;00m \u001b[38;5;241m0\u001b[39m\n",
      "\u001b[1;31mCalledProcessError\u001b[0m: Command '['java', '-jar', '-Xmx8G', 'spice-1.0.jar', 'c:\\\\Github_repos\\\\COCO_caption_eval\\\\evaltools\\\\spice\\\\tmp\\\\tmpvnhmekno', '-cache', 'c:\\\\Github_repos\\\\COCO_caption_eval\\\\evaltools\\\\spice\\\\cache', '-out', 'c:\\\\Github_repos\\\\COCO_caption_eval\\\\evaltools\\\\spice\\\\tmp\\\\tmpksh3kexj', '-subset', '-silent']' returned non-zero exit status 1."
     ]
    }
   ],
   "source": [
    "eval_tool.evaluate(gts, res)"
   ]
  },
  {
   "cell_type": "code",
   "execution_count": null,
   "metadata": {},
   "outputs": [],
   "source": []
  }
 ],
 "metadata": {
  "kernelspec": {
   "display_name": "Python 3",
   "language": "python",
   "name": "python3"
  },
  "language_info": {
   "codemirror_mode": {
    "name": "ipython",
    "version": 3
   },
   "file_extension": ".py",
   "mimetype": "text/x-python",
   "name": "python",
   "nbconvert_exporter": "python",
   "pygments_lexer": "ipython3",
   "version": "3.9.13"
  }
 },
 "nbformat": 4,
 "nbformat_minor": 2
}
