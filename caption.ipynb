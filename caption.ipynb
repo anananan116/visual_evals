{
 "cells": [
  {
   "cell_type": "code",
   "execution_count": 1,
   "metadata": {},
   "outputs": [],
   "source": [
    "from evaltools.eval import COCOEvalCap\n",
    "import json"
   ]
  },
  {
   "cell_type": "code",
   "execution_count": 2,
   "metadata": {},
   "outputs": [],
   "source": [
    "with open('captions.json') as f:\n",
    "    captions = json.load(f)\n",
    "gts, res = {}, {}\n",
    "for k,v in captions.items():\n",
    "    gts[int(k)] = [{'caption': x} for x in v[1]]\n",
    "    res[int(k)] = [{'caption': v[0]}]"
   ]
  },
  {
   "cell_type": "code",
   "execution_count": 3,
   "metadata": {},
   "outputs": [],
   "source": [
    "eval_tool = COCOEvalCap()"
   ]
  },
  {
   "cell_type": "code",
   "execution_count": 4,
   "metadata": {},
   "outputs": [
    {
     "name": "stdout",
     "output_type": "stream",
     "text": [
      "tokenization...\n",
      "setting up scorers...\n",
      "computing Bleu score...\n",
      "{'testlen': 45386, 'reflen': 46153, 'guess': [45386, 40386, 35386, 30386], 'correct': [36096, 19898, 9751, 4575]}\n",
      "ratio: 0.9833813619916153\n",
      "Bleu_1: 0.782\n",
      "Bleu_2: 0.615\n",
      "Bleu_3: 0.468\n",
      "Bleu_4: 0.351\n",
      "computing METEOR score...\n",
      "METEOR: 0.286\n",
      "computing Rouge score...\n",
      "ROUGE_L: 0.562\n",
      "computing CIDEr score...\n",
      "CIDEr: 1.254\n",
      "computing SPICE score...\n",
      "SPICE: 0.229\n"
     ]
    }
   ],
   "source": [
    "eval_tool.evaluate(gts, res)"
   ]
  },
  {
   "cell_type": "code",
   "execution_count": null,
   "metadata": {},
   "outputs": [],
   "source": []
  }
 ],
 "metadata": {
  "kernelspec": {
   "display_name": "Python 3",
   "language": "python",
   "name": "python3"
  },
  "language_info": {
   "codemirror_mode": {
    "name": "ipython",
    "version": 3
   },
   "file_extension": ".py",
   "mimetype": "text/x-python",
   "name": "python",
   "nbconvert_exporter": "python",
   "pygments_lexer": "ipython3",
   "version": "3.9.13"
  }
 },
 "nbformat": 4,
 "nbformat_minor": 2
}
